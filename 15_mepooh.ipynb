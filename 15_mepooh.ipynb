{
  "nbformat": 4,
  "nbformat_minor": 0,
  "metadata": {
    "colab": {
      "provenance": [],
      "authorship_tag": "ABX9TyPD1b8abuQeQvdKsPqK1fU7",
      "include_colab_link": true
    },
    "kernelspec": {
      "name": "python3",
      "display_name": "Python 3"
    },
    "language_info": {
      "name": "python"
    }
  },
  "cells": [
    {
      "cell_type": "markdown",
      "metadata": {
        "id": "view-in-github",
        "colab_type": "text"
      },
      "source": [
        "<a href=\"https://colab.research.google.com/github/mepooheiei/project--1-_coding/blob/main/15_mepooh.ipynb\" target=\"_parent\"><img src=\"https://colab.research.google.com/assets/colab-badge.svg\" alt=\"Open In Colab\"/></a>"
      ]
    },
    {
      "cell_type": "markdown",
      "source": [
        "เลขที่ 15 ฐิติพงษ์ ไกรกลอง\n",
        "no. 15 thitipong kraiklong"
      ],
      "metadata": {
        "id": "gRtLrMoscXX1"
      }
    },
    {
      "cell_type": "code",
      "source": [
        "\n"
      ],
      "metadata": {
        "id": "WUCbVKeB9LrK"
      },
      "execution_count": null,
      "outputs": []
    },
    {
      "cell_type": "code",
      "source": [
        "print(\"สวัสดีหทมีพูอิอิ\")"
      ],
      "metadata": {
        "colab": {
          "base_uri": "https://localhost:8080/"
        },
        "id": "LzTDPi44BLSR",
        "outputId": "1d224ccd-579c-42b5-addd-45107b3ad804"
      },
      "execution_count": null,
      "outputs": [
        {
          "output_type": "stream",
          "name": "stdout",
          "text": [
            "สวัสดีหทมีพูอิอิ\n"
          ]
        }
      ]
    },
    {
      "cell_type": "code",
      "source": [
        "print(5+5)"
      ],
      "metadata": {
        "colab": {
          "base_uri": "https://localhost:8080/"
        },
        "id": "rg4YXOy9ENBi",
        "outputId": "98aa67e5-5d48-4f84-9d82-5afcb1bc5a47"
      },
      "execution_count": null,
      "outputs": [
        {
          "output_type": "stream",
          "name": "stdout",
          "text": [
            "10\n"
          ]
        }
      ]
    },
    {
      "cell_type": "code",
      "source": [
        "print(\"5+5\")\n"
      ],
      "metadata": {
        "colab": {
          "base_uri": "https://localhost:8080/"
        },
        "id": "w4uiFVR1FK7S",
        "outputId": "14c24eae-9669-44d5-b3fd-b4fd88b811f3"
      },
      "execution_count": null,
      "outputs": [
        {
          "output_type": "stream",
          "name": "stdout",
          "text": [
            "5+5\n"
          ]
        }
      ]
    },
    {
      "cell_type": "code",
      "source": [
        "print('\\               /')\n",
        "print('       x         ')\n",
        "print('/              \\ ')"
      ],
      "metadata": {
        "colab": {
          "base_uri": "https://localhost:8080/"
        },
        "id": "hLa8DbtvHl_7",
        "outputId": "fa8eb4ef-0861-4455-bb88-13e7bb423311"
      },
      "execution_count": null,
      "outputs": [
        {
          "output_type": "stream",
          "name": "stdout",
          "text": [
            "\\               /\n",
            "       x         \n",
            "/              \\ \n"
          ]
        }
      ]
    },
    {
      "cell_type": "code",
      "source": [
        "name=input(\"age\")\n"
      ],
      "metadata": {
        "id": "Zporri3uv0t6"
      },
      "execution_count": null,
      "outputs": []
    },
    {
      "cell_type": "code",
      "source": [
        "side=int(input)(\"ความยาวด้าน(ซม.)'')\n",
        "\n",
        "area=side*side\n",
        "\n",
        "print('')"
      ],
      "metadata": {
        "id": "HagfMgDwzTa-"
      },
      "execution_count": null,
      "outputs": []
    },
    {
      "cell_type": "markdown",
      "source": [
        "1/7/2567"
      ],
      "metadata": {
        "id": "lvlMIDj4Q5if"
      }
    },
    {
      "cell_type": "code",
      "source": [
        "ide=int(input)(\"ความยาวด้าน'')\n",
        "\n",
        "area=side*long\n",
        "\n",
        "print('')"
      ],
      "metadata": {
        "colab": {
          "base_uri": "https://localhost:8080/",
          "height": 110
        },
        "id": "5u96vfsaPqnv",
        "outputId": "9efd6ccf-afef-4c63-a22d-34653a72f4a5"
      },
      "execution_count": null,
      "outputs": [
        {
          "output_type": "error",
          "ename": "SyntaxError",
          "evalue": "unterminated string literal (detected at line 1) (<ipython-input-1-dff6723eb696>, line 1)",
          "traceback": [
            "\u001b[0;36m  File \u001b[0;32m\"<ipython-input-1-dff6723eb696>\"\u001b[0;36m, line \u001b[0;32m1\u001b[0m\n\u001b[0;31m    ide=int(input)(\"ความยาวด้าน(ซม.)'')\u001b[0m\n\u001b[0m                   ^\u001b[0m\n\u001b[0;31mSyntaxError\u001b[0m\u001b[0;31m:\u001b[0m unterminated string literal (detected at line 1)\n"
          ]
        }
      ]
    },
    {
      "cell_type": "code",
      "source": [
        "long=int(input(\"ความกว้างคือ\"))\n",
        "lenght=int(intpunt(\"ความยาว\")\n",
        "\n",
        "distance=vector/time\n",
        "\n",
        "print('')"
      ],
      "metadata": {
        "id": "REMYlO9hRuae"
      },
      "execution_count": null,
      "outputs": []
    },
    {
      "cell_type": "code",
      "source": [
        "def calculate_bmi(weight_kg, height_cm):\n",
        "    height_m = height_cm / 100\n",
        "    bmi = weight_kg / (height_m ** 2)\n",
        "    return bmi\n",
        "\n",
        "def interpret_bmi(bmi):\n",
        "    if bmi < 18.5:\n",
        "        return \"ผอมเกินไป\"\n",
        "    elif 18.5 <= bmi < 23:\n",
        "        return \"น้ำหนักปกติ\"\n",
        "    elif 23 <= bmi < 25:\n",
        "        return \"น้ำหนักเกิน\"\n",
        "    elif 25 <= bmi < 30:\n",
        "        return \"โรคอ้วน\"\n",
        "    else:\n",
        "        return \"โรคอ้วนอันตราย\"\n",
        "\n",
        "def main():\n",
        "    weight = float(input(\"โปรดระบุน้ำหนัก (กิโลกรัม): \"))\n",
        "    height = float(input(\"โปรดระบุส่วนสูง (เซนติเมตร): \"))\n",
        "\n",
        "    bmi = calculate_bmi(weight, height)\n",
        "    print(f\"ดัชนีมวลกายของคุณคือ {bmi:.2f}\")\n",
        "\n",
        "    interpretation = interpret_bmi(bmi)\n",
        "    print(f\"อยู่ในเกณฑ์: {interpretation}\")\n",
        "\n",
        "if __name__ == \"__main__\":\n",
        "    main()\n",
        "    print(\"by Mepooheiei/; welcome to myBody Mass Index Calculator\")\n",
        "    print(\"welcome\")\n",
        "    name=input(\"what your name \")"
      ],
      "metadata": {
        "colab": {
          "base_uri": "https://localhost:8080/"
        },
        "id": "Kao_ZJyyYkdx",
        "outputId": "0b016efc-3d2e-4c03-b6ca-fc6f40185b1e"
      },
      "execution_count": null,
      "outputs": [
        {
          "name": "stdout",
          "output_type": "stream",
          "text": [
            "โปรดระบุน้ำหนัก (กิโลกรัม): 50\n"
          ]
        }
      ]
    },
    {
      "cell_type": "markdown",
      "source": [],
      "metadata": {
        "id": "4TztYHj7ifpI"
      }
    },
    {
      "cell_type": "markdown",
      "source": [
        "function\n"
      ],
      "metadata": {
        "id": "ut9ju2rx-HVX"
      }
    },
    {
      "cell_type": "code",
      "source": [
        "\n",
        "\n",
        "# ใส่ความยาวทั้งสองข้าง\n",
        "a = float(input(\"ป้อนตัวเลข: \"))\n",
        "b = float(input(\"ป้อนตัวเลข: \"))\n",
        "\n",
        "# คำนวณด้านตรงข้ามมุมฉาก\n",
        "c = math.sqrt(a**2 + b**2)\n",
        "\n",
        "# ผลลัพธ์\n",
        "print(f\"ความยาวของด้านตรงข้ามมุมฉากคือ: {c}\")"
      ],
      "metadata": {
        "id": "XfS8hUmiY0H-",
        "colab": {
          "base_uri": "https://localhost:8080/"
        },
        "outputId": "dd7ec4f3-4ab4-4817-fada-98752119c6e0"
      },
      "execution_count": null,
      "outputs": [
        {
          "output_type": "stream",
          "name": "stdout",
          "text": [
            "ป้อนตัวเลข: 9\n",
            "ป้อนตัวเลข: 9\n",
            "ความยาวของด้านตรงข้ามมุมฉากคือ: 12.727922061357855\n"
          ]
        }
      ]
    }
  ]
}