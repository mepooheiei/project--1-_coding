import tkinter as tk
from tkinter import messagebox
import math

# ฟังก์ชันสำหรับคำนวณระยะห่าง
def calculate_distance():
    try:
        # ตรวจสอบประเภท 2D หรือ 3D
        dimension = dimension_var.get()

        # ดึงค่าจากช่องป้อนข้อมูล
        x1 = float(entry_x1.get())
        y1 = float(entry_y1.get())
        x2 = float(entry_x2.get())
        y2 = float(entry_y2.get())

        if dimension == "2D":
            # คำนวณระยะห่างใน 2D
            distance = math.sqrt((x2 - x1) ** 2 + (y2 - y1) ** 2)
        else:
            # รับค่า z เพิ่มเติม
            z1 = float(entry_z1.get())
            z2 = float(entry_z2.get())
            # คำนวณระยะห่างใน 3D
            distance = math.sqrt((x2 - x1) ** 2 + (y2 - y1) ** 2 + (z2 - z1) ** 2)

        # แสดงผลลัพธ์
        result_label.config(text=f"ระยะห่างระหว่างจุด A และ B: {distance:.2f} หน่วย")

    except ValueError:
        messagebox.showerror("ข้อผิดพลาด", "กรุณาป้อนค่าตัวเลขให้ถูกต้อง!")

# ฟังก์ชันสำหรับเปลี่ยนอินเทอร์เฟซระหว่าง 2D และ 3D
def update_dimension():
    if dimension_var.get() == "3D":
        entry_z1.config(state="normal")
        entry_z2.config(state="normal")
    else:
        entry_z1.config(state="disabled")
        entry_z2.config(state="disabled")

# สร้างหน้าต่างหลัก
root = tk.Tk()
root.title("คำนวณระยะห่างระหว่างสองจุด")
root.geometry("400x400")

# ตัวเลือก 2D หรือ 3D
dimension_var = tk.StringVar(value="2D")
tk.Label(root, text="เลือกมิติการคำนวณ:").pack()
tk.Radiobutton(root, text="2D", variable=dimension_var, value="2D", command=update_dimension).pack()
tk.Radiobutton(root, text="3D", variable=dimension_var, value="3D", command=update_dimension).pack()

# ช่องป้อนค่าพิกัดของจุด A และ B
tk.Label(root, text="ป้อนค่าพิกัดของจุด A").pack()
entry_x1 = tk.Entry(root)
entry_y1 = tk.Entry(root)
entry_z1 = tk.Entry(root, state="disabled")  # ปิดใช้งาน z สำหรับ 2D
entry_x1.pack()
entry_y1.pack()
entry_z1.pack()

tk.Label(root, text="ป้อนค่าพิกัดของจุด B").pack()
entry_x2 = tk.Entry(root)
entry_y2 = tk.Entry(root)
entry_z2 = tk.Entry(root, state="disabled")  # ปิดใช้งาน z สำหรับ 2D
entry_x2.pack()
entry_y2.pack()
entry_z2.pack()

# ปุ่มคำนวณ
tk.Button(root, text="คำนวณระยะห่าง", command=calculate_distance).pack()

# ป้ายแสดงผลลัพธ์
result_label = tk.Label(root, text="ระยะห่าง: -", font=("Arial", 12))
result_label.pack()

# เรียกใช้หน้าต่างหลัก
root.mainloop()
